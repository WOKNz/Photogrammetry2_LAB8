{
 "cells": [
  {
   "cell_type": "code",
   "execution_count": 1,
   "metadata": {
    "collapsed": true
   },
   "outputs": [],
   "source": [
    "import numpy as np\n",
    "import Reader\n",
    "import Lab7Functions as lab7\n",
    "\n",
    "points = Reader.Reader.ReadSampleFile(\"Borowitz.json\")"
   ]
  },
  {
   "cell_type": "markdown",
   "source": [
    "<div style=\"direction:rtl\"><h1>חלק א'</h1>\n",
    "<h2>שאלה 1 א'</h2>\n",
    "<body>\n",
    "<p></p>\n",
    "</body>\n",
    "</div>"
   ],
   "metadata": {
    "collapsed": false,
    "pycharm": {
     "name": "#%% md\n"
    }
   }
  },
  {
   "cell_type": "code",
   "execution_count": 2,
   "outputs": [],
   "source": [
    "def findVanishingPoint(points_line1,points_line2):\n",
    "    line1 = lab7.computeLineNormal(points_line1[0,:].reshape(1,3),points_line1[1,:].reshape(1,3))\n",
    "    line2 = lab7.computeLineNormal(points_line2[0,:].reshape(1,3),points_line2[1,:].reshape(1,3))\n",
    "    return  np.cross(line1, line2)"
   ],
   "metadata": {
    "collapsed": false,
    "pycharm": {
     "name": "#%%\n"
    }
   }
  },
  {
   "cell_type": "code",
   "execution_count": 3,
   "outputs": [],
   "source": [
    "# @@@@ TEST UNIT @@@@@\n",
    "Number_of_points = 12\n",
    "v_points = np.empty((int(Number_of_points/4),3))\n",
    "points = np.hstack((points,np.ones((points.shape[0],1))))\n",
    "for i in range(0,Number_of_points,4):\n",
    "    p12= points[i:i+2,:]\n",
    "    p34= points[i+2:i+4,:]\n",
    "    v_points[int(i/4)] = findVanishingPoint(p12,p34)\n"
   ],
   "metadata": {
    "collapsed": false,
    "pycharm": {
     "name": "#%%\n"
    }
   }
  },
  {
   "cell_type": "markdown",
   "source": [
    "<div style=\"direction:rtl\">\n",
    "<h2>שאלה 1 ב'</h2>\n",
    "<body>\n",
    "<p></p>\n",
    "</body>\n",
    "</div>"
   ],
   "metadata": {
    "collapsed": false
   }
  },
  {
   "cell_type": "code",
   "source": [
    "def rotationMatrix_vanishingPoints(vanishingPoint1, vanishingPoint2):\n",
    "    r1 = (vanishingPoint1/np.linalg.norm(vanishingPoint1)).reshape(3,1)\n",
    "    v2 = vanishingPoint2.reshape(3,1)\n",
    "    temp = np.dot(np.identity(3)-np.dot(r1,r1.T),v2)\n",
    "    r2 = temp/np.linalg.norm(temp)\n",
    "    r3 = np.cross(r1[:,0],r2[:,0])\n",
    "    print(np.linalg.norm(r1))\n",
    "    print(np.linalg.norm(r2))\n",
    "    print(np.linalg.norm(r3))\n",
    "    return np.hstack((r1.reshape(3,1),r2.reshape(3,1),r3.reshape(3,1)))"
   ],
   "metadata": {
    "collapsed": false,
    "pycharm": {
     "name": "#%%\n"
    }
   },
   "execution_count": 4,
   "outputs": []
  },
  {
   "cell_type": "code",
   "execution_count": 8,
   "outputs": [
    {
     "name": "stdout",
     "output_type": "stream",
     "text": [
      "1.0\n",
      "0.9999999999999999\n",
      "0.9999999999999999\n",
      "[[-1.35873016e-05]\n",
      " [-1.40116673e-03]\n",
      " [ 9.99999018e-01]]\n"
     ]
    }
   ],
   "source": [
    "r = rotationMatrix_vanishingPoints(v_points[0,:].reshape(1,3),v_points[1,:].reshape(1,3))"
   ],
   "metadata": {
    "collapsed": false,
    "pycharm": {
     "name": "#%%\n"
    }
   }
  },
  {
   "cell_type": "markdown",
   "source": [
    "<div style=\"direction:rtl\">\n",
    "<h2>שאלה 2</h2>\n",
    "<body>\n",
    "<p></p>\n",
    "</body>\n",
    "</div>"
   ],
   "metadata": {
    "collapsed": false,
    "pycharm": {
     "name": "#%% md\n"
    }
   }
  },
  {
   "cell_type": "code",
   "source": [
    "def compute_CalibrationMatrix(v1, v2, v3):"
   ],
   "metadata": {
    "collapsed": false,
    "pycharm": {
     "name": "#%%\n"
    }
   },
   "execution_count": 6,
   "outputs": [
    {
     "ename": "SyntaxError",
     "evalue": "unexpected EOF while parsing (<ipython-input-6-cb981f18714d>, line 1)",
     "output_type": "error",
     "traceback": [
      "\u001B[1;36m  File \u001B[1;32m\"<ipython-input-6-cb981f18714d>\"\u001B[1;36m, line \u001B[1;32m1\u001B[0m\n\u001B[1;33m    def compute_CalibrationMatrix(v1, v2, v3):\u001B[0m\n\u001B[1;37m                                              ^\u001B[0m\n\u001B[1;31mSyntaxError\u001B[0m\u001B[1;31m:\u001B[0m unexpected EOF while parsing\n"
     ]
    }
   ]
  },
  {
   "cell_type": "code",
   "execution_count": null,
   "outputs": [],
   "source": [
    "\n"
   ],
   "metadata": {
    "collapsed": false,
    "pycharm": {
     "name": "#%%\n"
    }
   }
  }
 ],
 "metadata": {
  "kernelspec": {
   "display_name": "Python 3",
   "language": "python",
   "name": "python3"
  },
  "language_info": {
   "codemirror_mode": {
    "name": "ipython",
    "version": 2
   },
   "file_extension": ".py",
   "mimetype": "text/x-python",
   "name": "python",
   "nbconvert_exporter": "python",
   "pygments_lexer": "ipython2",
   "version": "2.7.6"
  }
 },
 "nbformat": 4,
 "nbformat_minor": 0
}